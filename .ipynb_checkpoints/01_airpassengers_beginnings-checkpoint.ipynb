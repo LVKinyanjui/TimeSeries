{
 "cells": [
  {
   "cell_type": "markdown",
   "id": "cff5ac2c-fdbe-4507-ad5e-8a8ddce266ae",
   "metadata": {},
   "source": [
    "This is my first in-depth analysis of time series data. We will use a technique called ARIMA and we will also be relying on <a href=https://builtin.com/data-science/time-series-python> this article </a> as our source."
   ]
  },
  {
   "cell_type": "code",
   "execution_count": 12,
   "id": "b58c9165-a4c2-4454-b491-fe52c4ff5f10",
   "metadata": {
    "tags": []
   },
   "outputs": [],
   "source": [
    "import pandas as pd\n",
    "import seaborn as sns\n",
    "import matplotlib.pyplot as plt"
   ]
  },
  {
   "cell_type": "code",
   "execution_count": 23,
   "id": "e6038da8-91c9-4e0f-9534-5356c5dbd55b",
   "metadata": {
    "tags": []
   },
   "outputs": [],
   "source": [
    "df = pd.read_csv(\"./data/archive/AirPassengers.csv\")"
   ]
  },
  {
   "cell_type": "code",
   "execution_count": 24,
   "id": "e120ae08-0459-404e-bf55-dc981863b490",
   "metadata": {
    "tags": []
   },
   "outputs": [
    {
     "data": {
      "text/html": [
       "<div>\n",
       "<style scoped>\n",
       "    .dataframe tbody tr th:only-of-type {\n",
       "        vertical-align: middle;\n",
       "    }\n",
       "\n",
       "    .dataframe tbody tr th {\n",
       "        vertical-align: top;\n",
       "    }\n",
       "\n",
       "    .dataframe thead th {\n",
       "        text-align: right;\n",
       "    }\n",
       "</style>\n",
       "<table border=\"1\" class=\"dataframe\">\n",
       "  <thead>\n",
       "    <tr style=\"text-align: right;\">\n",
       "      <th></th>\n",
       "      <th>Month</th>\n",
       "      <th>#Passengers</th>\n",
       "    </tr>\n",
       "  </thead>\n",
       "  <tbody>\n",
       "    <tr>\n",
       "      <th>0</th>\n",
       "      <td>1949-01</td>\n",
       "      <td>112</td>\n",
       "    </tr>\n",
       "    <tr>\n",
       "      <th>1</th>\n",
       "      <td>1949-02</td>\n",
       "      <td>118</td>\n",
       "    </tr>\n",
       "    <tr>\n",
       "      <th>2</th>\n",
       "      <td>1949-03</td>\n",
       "      <td>132</td>\n",
       "    </tr>\n",
       "    <tr>\n",
       "      <th>3</th>\n",
       "      <td>1949-04</td>\n",
       "      <td>129</td>\n",
       "    </tr>\n",
       "    <tr>\n",
       "      <th>4</th>\n",
       "      <td>1949-05</td>\n",
       "      <td>121</td>\n",
       "    </tr>\n",
       "  </tbody>\n",
       "</table>\n",
       "</div>"
      ],
      "text/plain": [
       "     Month  #Passengers\n",
       "0  1949-01          112\n",
       "1  1949-02          118\n",
       "2  1949-03          132\n",
       "3  1949-04          129\n",
       "4  1949-05          121"
      ]
     },
     "execution_count": 24,
     "metadata": {},
     "output_type": "execute_result"
    }
   ],
   "source": [
    "df.head()"
   ]
  },
  {
   "cell_type": "markdown",
   "id": "ec73a3c2-1ad0-452b-ad94-fae881b5cc38",
   "metadata": {},
   "source": [
    "## Preprocessing"
   ]
  },
  {
   "cell_type": "code",
   "execution_count": 29,
   "id": "1eb5193e-3588-4e31-8174-929b578c8140",
   "metadata": {
    "tags": []
   },
   "outputs": [],
   "source": [
    "df.rename(columns={'#Passengers' : 'Passengers'}, inplace=True)"
   ]
  },
  {
   "cell_type": "code",
   "execution_count": 30,
   "id": "d4a86c4f-bc38-4864-a85f-ce74b46459f1",
   "metadata": {
    "tags": []
   },
   "outputs": [],
   "source": [
    "# To datetime object\n",
    "df.Month = pd.to_datetime(df.Month)"
   ]
  },
  {
   "cell_type": "code",
   "execution_count": 31,
   "id": "bece137a-015c-496b-b1dc-eb27fba1b88a",
   "metadata": {
    "tags": []
   },
   "outputs": [],
   "source": [
    "# Make datetime into index\n",
    "df = df.set_index(df.Month).drop(columns='Month')"
   ]
  },
  {
   "cell_type": "markdown",
   "id": "2057f0c6-8f33-4a4e-bc5b-113bdd4a9aff",
   "metadata": {},
   "source": [
    "## Visualization"
   ]
  },
  {
   "cell_type": "code",
   "execution_count": 32,
   "id": "2e0a0a4b-5f52-462e-95ae-19853a36a29d",
   "metadata": {
    "tags": []
   },
   "outputs": [
    {
     "data": {
      "image/png": "[encoded data removed]",
      "text/plain": [
       "<Figure size 432x288 with 1 Axes>"
      ]
     },
     "metadata": {
      "needs_background": "light"
     },
     "output_type": "display_data"
    }
   ],
   "source": [
    "sns.lineplot(df)\n",
    "plt.ylabel(\"Number of Passengers\")\n",
    "plt.show()"
   ]
  },
  {
   "cell_type": "markdown",
   "id": "68b3f9b0-b61f-4c61-842d-63f6b125f264",
   "metadata": {},
   "source": [
    "# Points of Note\n",
    "Before we begin our forecasts we need to keep in mind a couple of things, as per our source\n",
    "\n",
    "## Stationarity\n",
    "> Simply put, stationarity means that the manner in which time series data changes is constant. A stationary time series will not have any trends or seasonal patterns. You should check for stationarity because it not only makes modeling time series easier, but it is an underlying assumption in many time series methods."
   ]
  },
  {
   "cell_type": "code",
   "execution_count": 33,
   "id": "b52fdea8-902e-4bd9-8f0c-370538d0dc52",
   "metadata": {
    "tags": []
   },
   "outputs": [],
   "source": [
    "rolling_mean = df.rolling(7).mean()\n",
    "rolling_std = df.rolling(7).std()"
   ]
  },
  {
   "cell_type": "code",
   "execution_count": 34,
   "id": "eed1f23f-9c28-4368-a9ce-1563ec14db54",
   "metadata": {
    "tags": []
   },
   "outputs": [
    {
     "data": {
      "image/png": "[encoded data removed]",
      "text/plain": [
       "<Figure size 432x288 with 1 Axes>"
      ]
     },
     "metadata": {
      "needs_background": "light"
     },
     "output_type": "display_data"
    }
   ],
   "source": [
    "# Plotting rolling std and mean superimposed on original plot\n",
    "plt.plot(df, color=\"blue\",label=\"Original Passenger Data\")\n",
    "plt.plot(rolling_mean, color=\"red\", label=\"Rolling Mean Passenger Number\")\n",
    "plt.plot(rolling_std, color=\"black\", label = \"Rolling Standard Deviation in Passenger Number\")\n",
    "plt.title(\"Passenger Time Series, Rolling Mean, Standard Deviation\")\n",
    "plt.legend(loc=\"best\")\n",
    "plt.show()"
   ]
  },
  {
   "cell_type": "markdown",
   "id": "b6aef7c5-09de-474a-9963-dbad1274a303",
   "metadata": {},
   "source": [
    "### Dickey-Fuller test\n",
    "Here we are testing for the null hypothesis, that there is no stationarity. The documentation <a href=https://www.statsmodels.org/dev/generated/statsmodels.tsa.stattools.adfuller.html> here </a> puts it more formally:\n",
    "> The null hypothesis of the Augmented Dickey-Fuller is that there is a unit root, with the alternative that there is no unit root. If the pvalue is above a critical size, then we cannot reject that there is a unit root."
   ]
  },
  {
   "cell_type": "code",
   "execution_count": 35,
   "id": "a4a7bd6a-4568-48f5-a25b-67cce88837e3",
   "metadata": {
    "tags": []
   },
   "outputs": [],
   "source": [
    "from statsmodels.tsa.stattools import adfuller"
   ]
  },
  {
   "cell_type": "code",
   "execution_count": 36,
   "id": "d5e92dc2-1d67-44b0-8a29-40bfcc295224",
   "metadata": {
    "tags": []
   },
   "outputs": [],
   "source": [
    "# Autolag chosen to minimize the information criterion\n",
    "adft = adfuller(df,autolag=\"AIC\")"
   ]
  },
  {
   "cell_type": "code",
   "execution_count": 37,
   "id": "d8ea1a36-ff08-498b-a9ff-b624cf0ff3a0",
   "metadata": {
    "tags": []
   },
   "outputs": [
    {
     "name": "stdout",
     "output_type": "stream",
     "text": [
      "                        Metric      Values\n",
      "0              Test Statistics    0.815369\n",
      "1                      p-value    0.991880\n",
      "2             No. of lags used   13.000000\n",
      "3  Number of observations used  130.000000\n",
      "4          critical value (1%)   -3.481682\n",
      "5          critical value (5%)   -2.884042\n",
      "6         critical value (10%)   -2.578770\n"
     ]
    }
   ],
   "source": [
    "# Displaying our results as a dataframe\n",
    "output_df = pd.DataFrame({\"Metric\":[\"Test Statistics\",\"p-value\",\"No. of lags used\",\"Number of observations used\", \"critical value (1%)\", \"critical value (5%)\", \"critical value (10%)\"], \"Values\":[adft[0],adft[1],adft[2],adft[3], adft[4]['1%'], adft[4]['5%'], adft[4]['10%']]})\n",
    "print(output_df)"
   ]
  },
  {
   "cell_type": "markdown",
   "id": "20d7ca57-bba5-4525-95b1-d339f035e274",
   "metadata": {},
   "source": [
    "### Conclusion\n",
    "Our p-value is way greater than .05 and so we fail to reject the null hypothesis, that there is no stationarity."
   ]
  },
  {
   "cell_type": "markdown",
   "id": "04f006ac-391d-41bf-8460-b4f9614edb96",
   "metadata": {},
   "source": [
    "## Autocorrelation\n",
    "> This is a measure of how correlated time series data is at a given point in time with past values, which has huge implications across many industries. "
   ]
  },
  {
   "cell_type": "code",
   "execution_count": 43,
   "id": "865b9de3-aba4-41ca-891e-4e77cecc1fc0",
   "metadata": {
    "tags": []
   },
   "outputs": [
    {
     "name": "stdout",
     "output_type": "stream",
     "text": [
      "One Month Lag:  0.9601946480498523\n",
      "Three Month Lag:  0.837394765081794\n",
      "Six Month Lag:  0.7839187959206183\n",
      "Nine Month Lag:  0.8278519011167601\n"
     ]
    }
   ],
   "source": [
    "# For one, three, six and nine months\n",
    "autocorrelation_lag1 = df.Passengers.autocorr(lag=1)\n",
    "print(\"One Month Lag: \", autocorrelation_lag1)\n",
    "\n",
    "autocorrelation_lag3 = df.Passengers.autocorr(lag=3)\n",
    "print(\"Three Month Lag: \", autocorrelation_lag3)\n",
    "\n",
    "autocorrelation_lag6 = df.Passengers.autocorr(lag=6)\n",
    "print(\"Six Month Lag: \", autocorrelation_lag6)\n",
    "\n",
    "autocorrelation_lag9 = df.Passengers.autocorr(lag=9)\n",
    "print(\"Nine Month Lag: \", autocorrelation_lag9)"
   ]
  },
  {
   "cell_type": "markdown",
   "id": "2121c2d3-2b4f-4339-a283-a5c3fb13cd9b",
   "metadata": {},
   "source": [
    "### Conclusion\n",
    "> We see that, even with a nine-month lag, the data is highly autocorrelated. This is further illustration of the short- and long-term trends in the data."
   ]
  },
  {
   "cell_type": "code",
   "execution_count": null,
   "id": "49ae4a02-d14c-451e-9227-ea09cbb97cd9",
   "metadata": {},
   "outputs": [],
   "source": []
  }
 ],
 "metadata": {
  "kernelspec": {
   "display_name": "Python 3 (ipykernel)",
   "language": "python",
   "name": "python3"
  },
  "language_info": {
   "codemirror_mode": {
    "name": "ipython",
    "version": 3
   },
   "file_extension": ".py",
   "mimetype": "text/x-python",
   "name": "python",
   "nbconvert_exporter": "python",
   "pygments_lexer": "ipython3",
   "version": "3.10.4"
  }
 },
 "nbformat": 4,
 "nbformat_minor": 5
}
