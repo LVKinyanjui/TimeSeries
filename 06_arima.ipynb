{
 "cells": [
  {
   "cell_type": "markdown",
   "id": "bd71008d-0dff-4477-962d-27c10ae53d70",
   "metadata": {},
   "source": [
    "The focus of this notebook is to learn more about the `ARIMA` model from statsmodels to see how it works. We shall be usisng [this](https://machinelearningmastery.com/arima-for-time-series-forecasting-with-python/#:~:text=The%20statsmodels%20library%20provides%20the,calling%20the%20fit()%20function.) as our source."
   ]
  },
  {
   "cell_type": "code",
   "execution_count": 1,
   "id": "2019a8c4-3c64-4c7a-85b7-6a7ac7cae4e0",
   "metadata": {
    "tags": []
   },
   "outputs": [],
   "source": [
    "import os\n",
    "import warnings\n",
    "import datetime\n",
    "from tqdm import tqdm"
   ]
  },
  {
   "cell_type": "code",
   "execution_count": 3,
   "id": "07ca789c-d859-43af-9846-180191c4780b",
   "metadata": {
    "tags": []
   },
   "outputs": [],
   "source": [
    "import pandas as pd\n",
    "import seaborn as sns\n",
    "import matplotlib.pyplot as plt\n",
    "import pandas_datareader.data as web\n",
    "from pandas.plotting import autocorrelation_plot"
   ]
  },
  {
   "cell_type": "code",
   "execution_count": 4,
   "id": "1abca65e-b1f7-4ac9-8dfb-d98d993c5eaf",
   "metadata": {
    "tags": []
   },
   "outputs": [],
   "source": [
    "from statsmodels.tsa.arima.model import ARIMA"
   ]
  },
  {
   "cell_type": "code",
   "execution_count": 5,
   "id": "75d74042-9ef1-48b5-b572-90440d756b92",
   "metadata": {
    "tags": []
   },
   "outputs": [],
   "source": [
    "from sklearn.metrics import mean_squared_error\n",
    "from sklearn.model_selection import TimeSeriesSplit"
   ]
  },
  {
   "cell_type": "code",
   "execution_count": 6,
   "id": "3ce09486-8779-4c51-a768-18f1635d9974",
   "metadata": {
    "tags": []
   },
   "outputs": [],
   "source": [
    "try:\n",
    "    ### Local Storage\n",
    "    df = pd.read_csv(\"./data/apple_stock.csv\")\n",
    "except:\n",
    "    ### Alpha Vantage API\n",
    "    # os.environ[\"ALPHA_VANTAGE_API_KEY\"] =\"0LQY2GPX91HZXOYZ\" \n",
    "    API_KEY = os.getenv(\"ALPHA_VANTAGE_API_KEY\")\n",
    "\n",
    "    # Define the start date for the data retrieval\n",
    "    start = datetime.datetime(2023, 1, 1)\n",
    "    end = datetime.datetime.today()\n",
    "\n",
    "    df = web.DataReader(\"AAPL\", \"av-daily\", start=start, end=end, api_key=API_KEY)"
   ]
  },
  {
   "cell_type": "code",
   "execution_count": 39,
   "id": "5d739f0d-438e-403f-8cca-0735a4a9661e",
   "metadata": {
    "tags": []
   },
   "outputs": [],
   "source": [
    "df = df.set_index(pd.to_datetime(df['index'])).drop(columns='index')"
   ]
  },
  {
   "cell_type": "markdown",
   "id": "bdb19347-2c55-4810-9829-210b9fbc4a44",
   "metadata": {
    "jp-MarkdownHeadingCollapsed": true,
    "tags": []
   },
   "source": [
    "## Points of Note\n",
    "\n",
    "he parameters of the ARIMA model are defined as follows:\n",
    "- p: The number of lag observations included in the model, also called the `lag order`.\n",
    "- d: The number of times that the raw observations are differenced, also called the `degree of differencing`.\n",
    "- q: The size of the moving average window, also called the `order` of moving average"
   ]
  },
  {
   "cell_type": "markdown",
   "id": "77424a7b-ea94-4e02-b321-ea28c4768630",
   "metadata": {},
   "source": [
    "## Check for Autocorrelation\n",
    "This is helpful in determining the lag(p)"
   ]
  },
  {
   "cell_type": "code",
   "execution_count": 13,
   "id": "e0c0a9e1-51cc-4a23-ba17-4325b0a0f42e",
   "metadata": {
    "tags": []
   },
   "outputs": [
    {
     "data": {
      "text/plain": [
       "<AxesSubplot:xlabel='Lag', ylabel='Autocorrelation'>"
      ]
     },
     "execution_count": 13,
     "metadata": {},
     "output_type": "execute_result"
    },
    {
     "data": {
      "image/png": "[encoded data removed]",
      "text/plain": [
       "<Figure size 432x288 with 1 Axes>"
      ]
     },
     "metadata": {
      "needs_background": "light"
     },
     "output_type": "display_data"
    }
   ],
   "source": [
    "autocorrelation_plot(df.high)"
   ]
  },
  {
   "cell_type": "markdown",
   "id": "fec3abf6-eb0f-49f7-8beb-a36849cc94c3",
   "metadata": {},
   "source": [
    "The lag is positively correlated up to around `lag=50`."
   ]
  },
  {
   "cell_type": "code",
   "execution_count": 16,
   "id": "2943c325-1bf4-4696-b8a6-8a3c74270b9f",
   "metadata": {
    "tags": []
   },
   "outputs": [
    {
     "data": {
      "text/html": [
       "<table class=\"simpletable\">\n",
       "<caption>SARIMAX Results</caption>\n",
       "<tr>\n",
       "  <th>Dep. Variable:</th>         <td>high</td>       <th>  No. Observations:  </th>    <td>158</td>  \n",
       "</tr>\n",
       "<tr>\n",
       "  <th>Model:</th>            <td>ARIMA(5, 1, 0)</td>  <th>  Log Likelihood     </th> <td>-339.330</td>\n",
       "</tr>\n",
       "<tr>\n",
       "  <th>Date:</th>            <td>Sat, 19 Aug 2023</td> <th>  AIC                </th>  <td>690.660</td>\n",
       "</tr>\n",
       "<tr>\n",
       "  <th>Time:</th>                <td>11:49:52</td>     <th>  BIC                </th>  <td>708.998</td>\n",
       "</tr>\n",
       "<tr>\n",
       "  <th>Sample:</th>                  <td>0</td>        <th>  HQIC               </th>  <td>698.108</td>\n",
       "</tr>\n",
       "<tr>\n",
       "  <th></th>                      <td> - 158</td>      <th>                     </th>     <td> </td>   \n",
       "</tr>\n",
       "<tr>\n",
       "  <th>Covariance Type:</th>        <td>opg</td>       <th>                     </th>     <td> </td>   \n",
       "</tr>\n",
       "</table>\n",
       "<table class=\"simpletable\">\n",
       "<tr>\n",
       "     <td></td>       <th>coef</th>     <th>std err</th>      <th>z</th>      <th>P>|z|</th>  <th>[0.025</th>    <th>0.975]</th>  \n",
       "</tr>\n",
       "<tr>\n",
       "  <th>ar.L1</th>  <td>    0.0238</td> <td>    0.066</td> <td>    0.360</td> <td> 0.719</td> <td>   -0.106</td> <td>    0.153</td>\n",
       "</tr>\n",
       "<tr>\n",
       "  <th>ar.L2</th>  <td>    0.0067</td> <td>    0.097</td> <td>    0.069</td> <td> 0.945</td> <td>   -0.184</td> <td>    0.198</td>\n",
       "</tr>\n",
       "<tr>\n",
       "  <th>ar.L3</th>  <td>    0.0268</td> <td>    0.109</td> <td>    0.247</td> <td> 0.805</td> <td>   -0.186</td> <td>    0.240</td>\n",
       "</tr>\n",
       "<tr>\n",
       "  <th>ar.L4</th>  <td>    0.0623</td> <td>    0.089</td> <td>    0.700</td> <td> 0.484</td> <td>   -0.112</td> <td>    0.237</td>\n",
       "</tr>\n",
       "<tr>\n",
       "  <th>ar.L5</th>  <td>   -0.0786</td> <td>    0.080</td> <td>   -0.980</td> <td> 0.327</td> <td>   -0.236</td> <td>    0.079</td>\n",
       "</tr>\n",
       "<tr>\n",
       "  <th>sigma2</th> <td>    4.4127</td> <td>    0.435</td> <td>   10.146</td> <td> 0.000</td> <td>    3.560</td> <td>    5.265</td>\n",
       "</tr>\n",
       "</table>\n",
       "<table class=\"simpletable\">\n",
       "<tr>\n",
       "  <th>Ljung-Box (L1) (Q):</th>     <td>0.03</td> <th>  Jarque-Bera (JB):  </th> <td>7.00</td>\n",
       "</tr>\n",
       "<tr>\n",
       "  <th>Prob(Q):</th>                <td>0.85</td> <th>  Prob(JB):          </th> <td>0.03</td>\n",
       "</tr>\n",
       "<tr>\n",
       "  <th>Heteroskedasticity (H):</th> <td>0.59</td> <th>  Skew:              </th> <td>0.34</td>\n",
       "</tr>\n",
       "<tr>\n",
       "  <th>Prob(H) (two-sided):</th>    <td>0.06</td> <th>  Kurtosis:          </th> <td>3.79</td>\n",
       "</tr>\n",
       "</table><br/><br/>Warnings:<br/>[1] Covariance matrix calculated using the outer product of gradients (complex-step)."
      ],
      "text/plain": [
       "<class 'statsmodels.iolib.summary.Summary'>\n",
       "\"\"\"\n",
       "                               SARIMAX Results                                \n",
       "==============================================================================\n",
       "Dep. Variable:                   high   No. Observations:                  158\n",
       "Model:                 ARIMA(5, 1, 0)   Log Likelihood                -339.330\n",
       "Date:                Sat, 19 Aug 2023   AIC                            690.660\n",
       "Time:                        11:49:52   BIC                            708.998\n",
       "Sample:                             0   HQIC                           698.108\n",
       "                                - 158                                         \n",
       "Covariance Type:                  opg                                         \n",
       "==============================================================================\n",
       "                 coef    std err          z      P>|z|      [0.025      0.975]\n",
       "------------------------------------------------------------------------------\n",
       "ar.L1          0.0238      0.066      0.360      0.719      -0.106       0.153\n",
       "ar.L2          0.0067      0.097      0.069      0.945      -0.184       0.198\n",
       "ar.L3          0.0268      0.109      0.247      0.805      -0.186       0.240\n",
       "ar.L4          0.0623      0.089      0.700      0.484      -0.112       0.237\n",
       "ar.L5         -0.0786      0.080     -0.980      0.327      -0.236       0.079\n",
       "sigma2         4.4127      0.435     10.146      0.000       3.560       5.265\n",
       "===================================================================================\n",
       "Ljung-Box (L1) (Q):                   0.03   Jarque-Bera (JB):                 7.00\n",
       "Prob(Q):                              0.85   Prob(JB):                         0.03\n",
       "Heteroskedasticity (H):               0.59   Skew:                             0.34\n",
       "Prob(H) (two-sided):                  0.06   Kurtosis:                         3.79\n",
       "===================================================================================\n",
       "\n",
       "Warnings:\n",
       "[1] Covariance matrix calculated using the outer product of gradients (complex-step).\n",
       "\"\"\""
      ]
     },
     "execution_count": 16,
     "metadata": {},
     "output_type": "execute_result"
    }
   ],
   "source": [
    "# fit model\n",
    "model = ARIMA(df.high, order=(5,1,0))\n",
    "model_fit = model.fit()\n",
    "residuals = model_fit.resid\n",
    "\n",
    "model_fit.summary()"
   ]
  },
  {
   "cell_type": "code",
   "execution_count": 17,
   "id": "f0b677c5-0c9f-45a9-9ce4-a9f5ecb63678",
   "metadata": {
    "tags": []
   },
   "outputs": [
    {
     "data": {
      "image/png": "[encoded data removed]",
      "text/plain": [
       "<Figure size 1440x432 with 1 Axes>"
      ]
     },
     "metadata": {
      "needs_background": "light"
     },
     "output_type": "display_data"
    }
   ],
   "source": [
    "plt.figure(figsize=(20, 6))\n",
    "plt.plot(residuals)\n",
    "plt.title(\"Residuals\")\n",
    "plt.show()"
   ]
  },
  {
   "cell_type": "code",
   "execution_count": 18,
   "id": "efae1f97-740d-460a-ae6e-038c021f3c06",
   "metadata": {
    "tags": []
   },
   "outputs": [
    {
     "data": {
      "image/png": "[encoded data removed]",
      "text/plain": [
       "<Figure size 1080x432 with 1 Axes>"
      ]
     },
     "metadata": {
      "needs_background": "light"
     },
     "output_type": "display_data"
    }
   ],
   "source": [
    "sns.displot(residuals, kde=True, height=6, aspect=2.5)\n",
    "plt.title(\"Noise Distribution\")\n",
    "plt.show()"
   ]
  },
  {
   "cell_type": "markdown",
   "id": "46d1a56f-a8d0-4fa5-a373-32593a4d0a20",
   "metadata": {},
   "source": [
    "### Conclusion\n",
    "The model seems to explain a lot of the variation as seen from the residual plot. We can also see that the `noise density plot` is `gaussian` as it should be. This is a satisfactory finding."
   ]
  },
  {
   "cell_type": "markdown",
   "id": "f80b743a-3aa7-4b55-937a-1888ecbe55de",
   "metadata": {},
   "source": [
    "## Configuring an ARIMA model\n",
    "> The classical approach for fitting an ARIMA model is to follow the `Box-Jenkins Methodology`. This is a process that uses time series analysis and diagnostics to discover good parameters for the ARIMA model.\n",
    "\n",
    "Methods to optimize parameters include:\n",
    "- GridSearch"
   ]
  },
  {
   "cell_type": "markdown",
   "id": "2f75913f-f3b8-41c3-8dbf-df8c24c4fec9",
   "metadata": {},
   "source": [
    "### Helper Functions"
   ]
  },
  {
   "cell_type": "code",
   "execution_count": 19,
   "id": "e354ee2f-7c37-4f4f-a312-e5e01233e12a",
   "metadata": {
    "tags": []
   },
   "outputs": [],
   "source": [
    "# evaluate an ARIMA model for a given order (p,d,q)\n",
    "def evaluate_arima_model(X, arima_order):\n",
    "\t# prepare training dataset\n",
    "\ttrain_size = int(len(X) * 0.66)\n",
    "\ttrain, test = X[0:train_size], X[train_size:]\n",
    "\thistory = [x for x in train]\n",
    "\t# make predictions\n",
    "\tpredictions = list()\n",
    "\tfor t in range(len(test)):\n",
    "\t\tmodel = ARIMA(history, order=arima_order)\n",
    "\t\tmodel_fit = model.fit()\n",
    "\t\tyhat = model_fit.forecast()[0]\n",
    "\t\tpredictions.append(yhat)\n",
    "\t\thistory.append(test[t])\n",
    "\t# calculate out of sample error\n",
    "\terror = mean_squared_error(test, predictions)\n",
    "\treturn error"
   ]
  },
  {
   "cell_type": "code",
   "execution_count": 20,
   "id": "e11bede9-cb35-4bf1-957e-0eeaffee8a51",
   "metadata": {
    "tags": []
   },
   "outputs": [],
   "source": [
    "# evaluate combinations of p, d and q values for an ARIMA model\n",
    "def evaluate_models(dataset, p_values, d_values, q_values):\n",
    "\tdataset = dataset.astype('float32')\n",
    "\tbest_score, best_cfg = float(\"inf\"), None\n",
    "\tfor p in tqdm(p_values):\n",
    "\t\tfor d in d_values:\n",
    "\t\t\tfor q in q_values:\n",
    "\t\t\t\torder = (p,d,q)\n",
    "\t\t\t\ttry:\n",
    "\t\t\t\t\tmse = evaluate_arima_model(dataset, order)\n",
    "\t\t\t\t\tif mse < best_score:\n",
    "\t\t\t\t\t\tbest_score, best_cfg = mse, order\n",
    "\t\t\t\t\tprint('ARIMA%s MSE=%.3f' % (order,mse))\n",
    "\t\t\t\texcept:\n",
    "\t\t\t\t\tcontinue\n",
    "\tprint('Best ARIMA%s MSE=%.3f' % (best_cfg, best_score))\n",
    "    return best_cfg"
   ]
  },
  {
   "cell_type": "markdown",
   "id": "98d5837c-70a5-424d-9eae-5e627b67f248",
   "metadata": {},
   "source": [
    "### Train Test Split"
   ]
  },
  {
   "cell_type": "code",
   "execution_count": 40,
   "id": "d5ff2f51-9618-47b3-b24c-74a825fc5a7a",
   "metadata": {
    "tags": []
   },
   "outputs": [],
   "source": [
    "tscv = TimeSeriesSplit(n_splits=2, test_size=len(df)//10)\n",
    "\n",
    "for train_index, test_index in tscv.split(df):\n",
    "    train = df.high[train_index]\n",
    "    test = df.high[test_index]"
   ]
  },
  {
   "cell_type": "markdown",
   "id": "fb628ee7-f771-4383-8718-845a033b92ca",
   "metadata": {},
   "source": [
    "### Grid Search"
   ]
  },
  {
   "cell_type": "code",
   "execution_count": 22,
   "id": "41febb2e-c797-430a-863f-337907211c21",
   "metadata": {
    "tags": []
   },
   "outputs": [
    {
     "name": "stderr",
     "output_type": "stream",
     "text": [
      "  0%|                                                                                            | 0/2 [00:00<?, ?it/s]"
     ]
    },
    {
     "name": "stdout",
     "output_type": "stream",
     "text": [
      "ARIMA(10, 0, 0) MSE=3.382\n",
      "ARIMA(10, 0, 1) MSE=3.226\n",
      "ARIMA(10, 1, 0) MSE=3.090\n"
     ]
    },
    {
     "name": "stderr",
     "output_type": "stream",
     "text": [
      " 50%|██████████████████████████████████████████                                          | 1/2 [01:18<01:18, 78.58s/it]"
     ]
    },
    {
     "name": "stdout",
     "output_type": "stream",
     "text": [
      "ARIMA(10, 1, 1) MSE=3.099\n",
      "ARIMA(20, 0, 0) MSE=3.730\n",
      "ARIMA(20, 0, 1) MSE=3.322\n",
      "ARIMA(20, 1, 0) MSE=3.293\n"
     ]
    },
    {
     "name": "stderr",
     "output_type": "stream",
     "text": [
      "100%|███████████████████████████████████████████████████████████████████████████████████| 2/2 [06:59<00:00, 209.90s/it]"
     ]
    },
    {
     "name": "stdout",
     "output_type": "stream",
     "text": [
      "ARIMA(20, 1, 1) MSE=3.340\n",
      "Best ARIMA(10, 1, 0) MSE=3.090\n"
     ]
    },
    {
     "name": "stderr",
     "output_type": "stream",
     "text": [
      "\n"
     ]
    }
   ],
   "source": [
    "# EXECUTE\n",
    "proceed = input(\"Perform Grid Search [y/n]?: \")\n",
    "if proceed = 'y':\n",
    "    p_values = [10, 20]\n",
    "    d_values = range(0, 2)\n",
    "    q_values = range(0, 2)\n",
    "    warnings.filterwarnings(\"ignore\")\n",
    "    evaluate_models(train.values, p_values, d_values, q_values)\n",
    "else:\n",
    "    pass"
   ]
  },
  {
   "cell_type": "markdown",
   "id": "023f3cc1-d3db-4e50-af18-44daa0e43a30",
   "metadata": {},
   "source": [
    "### Fit Best Model"
   ]
  },
  {
   "cell_type": "code",
   "execution_count": 41,
   "id": "9311d9c5-f4b3-4b0d-bc0e-aedae021e117",
   "metadata": {
    "tags": []
   },
   "outputs": [],
   "source": [
    "model = ARIMA(df.high, order=(10, 1, 0))\n",
    "model_fit = model.fit()"
   ]
  },
  {
   "cell_type": "markdown",
   "id": "6ef51557-2a1f-4ead-9aa3-cdc174dcb6d9",
   "metadata": {},
   "source": [
    "### Rolling Forecast"
   ]
  },
  {
   "cell_type": "code",
   "execution_count": 43,
   "id": "1f03352d-c0a0-436d-8e0f-0a702f8f8165",
   "metadata": {
    "tags": []
   },
   "outputs": [
    {
     "name": "stdout",
     "output_type": "stream",
     "text": [
      "predicted 196.70778525473213\n",
      "predicted 197.24967794547754\n",
      "predicted 196.03462337567993\n",
      "predicted 194.67417891389118\n",
      "predicted 192.65450038141714\n",
      "predicted 187.66122215451924\n",
      "predicted 183.27486554109166\n",
      "predicted 180.01661759511938\n",
      "predicted 180.23699462349626\n",
      "predicted 180.44793200766787\n",
      "predicted 178.0206651453368\n",
      "predicted 178.8623576302118\n",
      "predicted 177.83012700816687\n",
      "predicted 176.67765288534295\n",
      "predicted 176.47364594530185\n"
     ]
    }
   ],
   "source": [
    "history = [x for x in train]\n",
    "predictions = list()\n",
    "\n",
    "# walk-forward validation\n",
    "for t in range(len(test)):\n",
    "\tmodel = ARIMA(history, order=(10,0,0))\n",
    "\tmodel_fit = model.fit()\n",
    "\toutput = model_fit.forecast()\n",
    "\tyhat = output[0]\n",
    "\tpredictions.append(yhat)\n",
    "\tobs = test[t] # Requres that the index be a datetime object\n",
    "\thistory.append(obs)\n",
    "\tprint(f'predicted {yhat, obs}')"
   ]
  },
  {
   "cell_type": "code",
   "execution_count": 44,
   "id": "017dfaa4-4c09-4b96-baf7-e05d1cbfc271",
   "metadata": {
    "tags": []
   },
   "outputs": [
    {
     "data": {
      "text/plain": [
       "index\n",
       "2023-07-31    196.707785\n",
       "2023-08-01    197.249678\n",
       "2023-08-02    196.034623\n",
       "2023-08-03    194.674179\n",
       "2023-08-04    192.654500\n",
       "2023-08-07    187.661222\n",
       "2023-08-08    183.274866\n",
       "2023-08-09    180.016618\n",
       "2023-08-10    180.236995\n",
       "2023-08-11    180.447932\n",
       "2023-08-14    178.020665\n",
       "2023-08-15    178.862358\n",
       "2023-08-16    177.830127\n",
       "2023-08-17    176.677653\n",
       "2023-08-18    176.473646\n",
       "dtype: float64"
      ]
     },
     "execution_count": 44,
     "metadata": {},
     "output_type": "execute_result"
    }
   ],
   "source": [
    "# Adding timestamps to predictions\n",
    "predictions_ = pd.Series(predictions)\n",
    "predictions_.index = test.index\n",
    "predictions_"
   ]
  },
  {
   "cell_type": "code",
   "execution_count": 45,
   "id": "bd60461f-da33-4b78-a0dc-b7ffdc8bc05f",
   "metadata": {
    "tags": []
   },
   "outputs": [],
   "source": [
    "# evaluate forecasts\n",
    "rmse = mean_squared_error(test, predictions, squared=False)\n",
    "print('Test RMSE: %.3f' % rmse)"
   ]
  },
  {
   "cell_type": "code",
   "execution_count": 46,
   "id": "b90bbcfc-45e8-439d-87b5-0d5cf57a2cb9",
   "metadata": {
    "tags": []
   },
   "outputs": [
    {
     "data": {
      "image/png": "[encoded data removed]",
      "text/plain": [
       "<Figure size 1440x432 with 1 Axes>"
      ]
     },
     "metadata": {
      "needs_background": "light"
     },
     "output_type": "display_data"
    }
   ],
   "source": [
    "plt.figure(figsize=(20, 6))\n",
    "plt.plot(train, label= \"Train Set\")\n",
    "plt.plot(test, label=\"Test Set\")\n",
    "plt.plot(predictions_, label=\"Predicted\")\n",
    "plt.legend(loc='best')\n",
    "plt.show()"
   ]
  },
  {
   "cell_type": "markdown",
   "id": "8a1e8510-b2eb-4433-8174-d7d323a9581d",
   "metadata": {},
   "source": [
    "## Conclusion\n",
    "We have been able to predict accurately on the series. Of course the good prediction results from the fact that we are only predicting one step ahead at a time. Perhaps we can increase the number of time points to look ahead with better models."
   ]
  },
  {
   "cell_type": "code",
   "execution_count": null,
   "id": "31efa1eb-fc64-4317-a51e-c0ecd8b29b93",
   "metadata": {},
   "outputs": [],
   "source": []
  }
 ],
 "metadata": {
  "kernelspec": {
   "display_name": "Python 3 (ipykernel)",
   "language": "python",
   "name": "python3"
  },
  "language_info": {
   "codemirror_mode": {
    "name": "ipython",
    "version": 3
   },
   "file_extension": ".py",
   "mimetype": "text/x-python",
   "name": "python",
   "nbconvert_exporter": "python",
   "pygments_lexer": "ipython3",
   "version": "3.10.4"
  }
 },
 "nbformat": 4,
 "nbformat_minor": 5
}
