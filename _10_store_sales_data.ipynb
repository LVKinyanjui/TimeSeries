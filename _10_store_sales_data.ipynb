{
 "cells": [
  {
   "cell_type": "markdown",
   "id": "d1ba3619-5212-49bc-8242-e8afebe8549a",
   "metadata": {},
   "source": [
    "This notebook is meant to tackle the `store sales` [kaggle dataset](https://www.kaggle.com/competitions/store-sales-time-series-forecasting/data). This has proven to be quite hard for an inexperienced analyst such as I. \n",
    "\n",
    "The problem has arisen from the need to take other variables into account other than the sales data itself. This distinction has recently been cleared up as defined by `exogenous` variables for the former and `endogenous` variables for the sales data itself. This would allow us to integrate both into an `ARIMAX (ARIMA with exogenous variables)` model, or even `SARIMAX`."
   ]
  },
  {
   "cell_type": "code",
   "execution_count": null,
   "id": "cab8cbc7-0dff-4d7f-87c7-d70778411d67",
   "metadata": {},
   "outputs": [],
   "source": []
  }
 ],
 "metadata": {
  "kernelspec": {
   "display_name": "Python 3 (ipykernel)",
   "language": "python",
   "name": "python3"
  },
  "language_info": {
   "codemirror_mode": {
    "name": "ipython",
    "version": 3
   },
   "file_extension": ".py",
   "mimetype": "text/x-python",
   "name": "python",
   "nbconvert_exporter": "python",
   "pygments_lexer": "ipython3",
   "version": "3.10.4"
  }
 },
 "nbformat": 4,
 "nbformat_minor": 5
}
