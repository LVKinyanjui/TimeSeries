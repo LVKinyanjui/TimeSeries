{
 "cells": [
  {
   "cell_type": "markdown",
   "id": "8a693294-9660-4c7c-af1c-0b8815323ea8",
   "metadata": {},
   "source": [
    "This notebook will be dedicated to making forecasts on forex data; one of the ends to which we have been building up.\n",
    "\n",
    "## Prerequisites\n",
    "1. We will be using the `Alpha Vantage API` to source our trading data.\n",
    "    This requires an API key gotten from their [website](https://www.alphavantage.co/)\n",
    "2. We shall also take advantage of the `pandas_datareader` library to communicate with the API.\n",
    "    Get it through `pip install pandas-datareader`.\n",
    "3. Alternatively we might use the `requests` library for simplicity's sake"
   ]
  },
  {
   "cell_type": "code",
   "execution_count": 6,
   "id": "27bba822-54bc-4c96-8921-066adc50db3c",
   "metadata": {
    "tags": []
   },
   "outputs": [],
   "source": [
    "import os\n",
    "import requests\n",
    "import pandas_datareader.data as web"
   ]
  },
  {
   "cell_type": "code",
   "execution_count": 5,
   "id": "55dce275-de64-4aa5-88be-42cd6b178f63",
   "metadata": {
    "tags": []
   },
   "outputs": [],
   "source": [
    "API_KEY = os.getenv(\"ALPHA_VANTAGE_API_KEY\")"
   ]
  },
  {
   "cell_type": "markdown",
   "id": "593da745-99c7-4779-8866-b6abd578bde8",
   "metadata": {},
   "source": [
    "## Requests"
   ]
  },
  {
   "cell_type": "code",
   "execution_count": 7,
   "id": "6e013aed-2188-4530-a548-12cb54aa5b06",
   "metadata": {
    "tags": []
   },
   "outputs": [
    {
     "name": "stdout",
     "output_type": "stream",
     "text": [
      "{'Realtime Currency Exchange Rate': {'1. From_Currency Code': 'USD', '2. From_Currency Name': 'United States Dollar', '3. To_Currency Code': 'JPY', '4. To_Currency Name': 'Japanese Yen', '5. Exchange Rate': '146.19300000', '6. Last Refreshed': '2023-09-03 12:06:01', '7. Time Zone': 'UTC', '8. Bid Price': '146.18630000', '9. Ask Price': '146.19590000'}}\n"
     ]
    }
   ],
   "source": [
    "# replace the \"demo\" apikey below with your own key from https://www.alphavantage.co/support/#api-key\n",
    "url = f'https://www.alphavantage.co/query?function=CURRENCY_EXCHANGE_RATE&from_currency=USD&to_currency=JPY&apikey={API_KEY}'\n",
    "r = requests.get(url)\n",
    "data = r.json()\n",
    "\n",
    "print(data)"
   ]
  },
  {
   "cell_type": "code",
   "execution_count": 9,
   "id": "25e03782-6a8e-4da4-9f0c-283a91fa60ae",
   "metadata": {
    "tags": []
   },
   "outputs": [
    {
     "data": {
      "text/plain": [
       "{'1. From_Currency Code': 'USD',\n",
       " '2. From_Currency Name': 'United States Dollar',\n",
       " '3. To_Currency Code': 'JPY',\n",
       " '4. To_Currency Name': 'Japanese Yen',\n",
       " '5. Exchange Rate': '146.19300000',\n",
       " '6. Last Refreshed': '2023-09-03 12:06:01',\n",
       " '7. Time Zone': 'UTC',\n",
       " '8. Bid Price': '146.18630000',\n",
       " '9. Ask Price': '146.19590000'}"
      ]
     },
     "execution_count": 9,
     "metadata": {},
     "output_type": "execute_result"
    }
   ],
   "source": [
    "data['Realtime Currency Exchange Rate']"
   ]
  },
  {
   "cell_type": "markdown",
   "id": "d809582e-4ebf-4821-9ccf-50c4c0d49c02",
   "metadata": {
    "tags": []
   },
   "source": [
    "### Observations\n",
    "This basic hello world request gives us a real time exchange rate value. It serves to test our ability to call the API. Now we can proceed with more detailed requests."
   ]
  },
  {
   "cell_type": "markdown",
   "id": "a4492b74-3660-45e9-a581-0fb18341e051",
   "metadata": {},
   "source": [
    "### Intraday"
   ]
  },
  {
   "cell_type": "code",
   "execution_count": 10,
   "id": "1836c382-e25a-472f-a548-f7def96795f2",
   "metadata": {
    "tags": []
   },
   "outputs": [
    {
     "name": "stdout",
     "output_type": "stream",
     "text": [
      "{'Information': 'Thank you for using Alpha Vantage! This is a premium endpoint. You may subscribe to any of the premium plans at https://www.alphavantage.co/premium/ to instantly unlock all premium endpoints'}\n"
     ]
    }
   ],
   "source": [
    "url = f'https://www.alphavantage.co/query?function=FX_INTRADAY&from_symbol=EUR&to_symbol=USD&interval=5min&apikey={API_KEY}'\n",
    "r = requests.get(url)\n",
    "data = r.json()\n",
    "\n",
    "print(data)"
   ]
  },
  {
   "cell_type": "markdown",
   "id": "c66ff739-fe23-406e-8d0d-98c04942b059",
   "metadata": {},
   "source": [
    "## Conclusions\n",
    "Owing to the fact that getting interday rates is a premium enpoint, we will have to create our own data by querying the api for realtime prices at set intervals. Once we have enough data to populate our dataframe we can then begin to train a model and predict off it."
   ]
  },
  {
   "cell_type": "code",
   "execution_count": null,
   "id": "a3100505-9bda-449f-959a-e890ae2ab5aa",
   "metadata": {},
   "outputs": [],
   "source": []
  }
 ],
 "metadata": {
  "kernelspec": {
   "display_name": "Python 3 (ipykernel)",
   "language": "python",
   "name": "python3"
  },
  "language_info": {
   "codemirror_mode": {
    "name": "ipython",
    "version": 3
   },
   "file_extension": ".py",
   "mimetype": "text/x-python",
   "name": "python",
   "nbconvert_exporter": "python",
   "pygments_lexer": "ipython3",
   "version": "3.10.4"
  }
 },
 "nbformat": 4,
 "nbformat_minor": 5
}
